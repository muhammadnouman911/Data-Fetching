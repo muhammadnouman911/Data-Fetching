{
 "cells": [
  {
   "cell_type": "markdown",
   "metadata": {},
   "source": [
    "<h1 align=center>Code For Remote Jobs Web Scraping <h1>"
   ]
  },
  {
   "cell_type": "markdown",
   "metadata": {},
   "source": [
    "<h1> Import Required Libraries<h1>"
   ]
  },
  {
   "cell_type": "markdown",
   "metadata": {},
   "source": [
    "First, import the necessary Python libraries for web scraping and data handling."
   ]
  },
  {
   "cell_type": "code",
   "execution_count": 30,
   "metadata": {},
   "outputs": [],
   "source": [
    "import requests\n",
    "from bs4 import BeautifulSoup\n",
    "import pandas as pd"
   ]
  },
  {
   "cell_type": "markdown",
   "metadata": {},
   "source": [
    "<h1>Set the Target URL and Headers<h1>"
   ]
  },
  {
   "cell_type": "markdown",
   "metadata": {},
   "source": [
    "Define the base URL and headers to mimic a browser request. This helps avoid being blocked by the server."
   ]
  },
  {
   "cell_type": "code",
   "execution_count": 31,
   "metadata": {},
   "outputs": [],
   "source": [
    "base_url = \"https://remoteok.io/remote-dev-jobs\"\n",
    "\n",
    "headers = {\"User-Agent\": \"Mozilla/5.0 (Windows NT 10.0; Win64; x64) AppleWebKit/537.36 (KHTML, like Gecko) Chrome/91.0.4472.124 Safari/537.36\"}"
   ]
  },
  {
   "cell_type": "markdown",
   "metadata": {},
   "source": [
    "<h1>Send an HTTP Request<h1>"
   ]
  },
  {
   "cell_type": "markdown",
   "metadata": {},
   "source": [
    "Make a GET request to the website to fetch the raw HTML content."
   ]
  },
  {
   "cell_type": "code",
   "execution_count": 32,
   "metadata": {},
   "outputs": [
    {
     "name": "stdout",
     "output_type": "stream",
     "text": [
      "Fetching jobs...\n"
     ]
    }
   ],
   "source": [
    "response = requests.get(base_url, headers=headers)\n",
    "\n",
    "if response.status_code != 200:\n",
    "    print(f\"Failed to fetch the webpage. Status code: {response.status_code}\")\n",
    "else:\n",
    "    print(\"Fetching jobs...\")\n"
   ]
  },
  {
   "cell_type": "markdown",
   "metadata": {},
   "source": [
    "<h1>Parse the HTML Content<h1>"
   ]
  },
  {
   "cell_type": "markdown",
   "metadata": {},
   "source": [
    "Use BeautifulSoup to parse the HTML and make it navigable"
   ]
  },
  {
   "cell_type": "code",
   "execution_count": 33,
   "metadata": {},
   "outputs": [],
   "source": [
    "soup = BeautifulSoup(response.text, 'html.parser')\n"
   ]
  },
  {
   "cell_type": "markdown",
   "metadata": {},
   "source": [
    "<h1>Find Job Containers<h1>"
   ]
  },
  {
   "cell_type": "markdown",
   "metadata": {},
   "source": [
    "Identify the HTML elements that hold job data. For RemoteOK, job containers are stored in <tr> tags with the class job."
   ]
  },
  {
   "cell_type": "code",
   "execution_count": 34,
   "metadata": {},
   "outputs": [
    {
     "name": "stdout",
     "output_type": "stream",
     "text": [
      "Found 20 job postings.\n"
     ]
    }
   ],
   "source": [
    "job_containers = soup.find_all('tr', class_='job')\n",
    "print(f\"Found {len(job_containers)} job postings.\")\n"
   ]
  },
  {
   "cell_type": "markdown",
   "metadata": {},
   "source": [
    "<h1> Extract Data From Each Job<h1>"
   ]
  },
  {
   "cell_type": "markdown",
   "metadata": {},
   "source": [
    "Loop through each job container and extract the required fields: Job Title, Company Name, Location, and Apply Link"
   ]
  },
  {
   "cell_type": "code",
   "execution_count": 35,
   "metadata": {},
   "outputs": [],
   "source": [
    "jobs = []\n",
    "\n",
    "for job in job_containers:\n",
    "    try:\n",
    "    \n",
    "        job_title = job.find('h2', class_='').text.strip()\n",
    "        \n",
    "\n",
    "        company_name = job.find('h3', class_='').text.strip()\n",
    "        \n",
    "\n",
    "        location = job.find('div', class_='location').text.strip() if job.find('div', class_='location') else \"Remote\"\n",
    "        \n",
    "     \n",
    "        apply_link = job.find('a', class_='preventLink')['href']\n",
    "        apply_link = f\"https://remoteok.io{apply_link}\"\n",
    "        \n",
    "    \n",
    "        jobs.append({\n",
    "            \"Job Title\": job_title,\n",
    "            \"Company Name\": company_name,\n",
    "            \"Location\": location,\n",
    "            \"Apply Link\": apply_link\n",
    "        })\n",
    "    except Exception as e:\n",
    "        print(f\"Error extracting job details: {e}\")\n"
   ]
  },
  {
   "cell_type": "markdown",
   "metadata": {},
   "source": [
    "<h1>Convert Data to a Pandas DataFrame<h1>"
   ]
  },
  {
   "cell_type": "markdown",
   "metadata": {},
   "source": [
    "Once the data is extracted, convert it into a structured format using a Pandas DataFrame."
   ]
  },
  {
   "cell_type": "code",
   "execution_count": 36,
   "metadata": {},
   "outputs": [],
   "source": [
    "df = pd.DataFrame(jobs)"
   ]
  },
  {
   "cell_type": "markdown",
   "metadata": {},
   "source": [
    "<h1> Save Data to a CSV File<h1>"
   ]
  },
  {
   "cell_type": "markdown",
   "metadata": {},
   "source": [
    "Save the extracted data to a CSV file for further analysis or sharing"
   ]
  },
  {
   "cell_type": "code",
   "execution_count": 37,
   "metadata": {},
   "outputs": [
    {
     "name": "stdout",
     "output_type": "stream",
     "text": [
      "Scraping completed. Dataset saved as 'remote_jobs.csv'.\n"
     ]
    }
   ],
   "source": [
    "df.to_csv(\"remote_jobs.csv\", index=False)\n",
    "print(\"Scraping completed. Dataset saved as 'remote_jobs.csv'.\")"
   ]
  },
  {
   "cell_type": "markdown",
   "metadata": {},
   "source": [
    "<h1>Dataset<h1>"
   ]
  },
  {
   "cell_type": "code",
   "execution_count": 38,
   "metadata": {},
   "outputs": [
    {
     "data": {
      "text/html": [
       "<div>\n",
       "<style scoped>\n",
       "    .dataframe tbody tr th:only-of-type {\n",
       "        vertical-align: middle;\n",
       "    }\n",
       "\n",
       "    .dataframe tbody tr th {\n",
       "        vertical-align: top;\n",
       "    }\n",
       "\n",
       "    .dataframe thead th {\n",
       "        text-align: right;\n",
       "    }\n",
       "</style>\n",
       "<table border=\"1\" class=\"dataframe\">\n",
       "  <thead>\n",
       "    <tr style=\"text-align: right;\">\n",
       "      <th></th>\n",
       "      <th>Job Title</th>\n",
       "      <th>Company Name</th>\n",
       "      <th>Location</th>\n",
       "      <th>Apply Link</th>\n",
       "    </tr>\n",
       "  </thead>\n",
       "  <tbody>\n",
       "    <tr>\n",
       "      <th>0</th>\n",
       "      <td>Senior Backend Golang Engineer</td>\n",
       "      <td>Hippo Technologies</td>\n",
       "      <td>🌏 Worldwide</td>\n",
       "      <td>https://remoteok.io/remote-jobs/remote-senior-...</td>\n",
       "    </tr>\n",
       "    <tr>\n",
       "      <th>1</th>\n",
       "      <td>Senior Backend Engineer</td>\n",
       "      <td>Composer Technologies</td>\n",
       "      <td>🌎 North America</td>\n",
       "      <td>https://remoteok.io/remote-jobs/remote-senior-...</td>\n",
       "    </tr>\n",
       "    <tr>\n",
       "      <th>2</th>\n",
       "      <td>Full Stack Engineer</td>\n",
       "      <td>ResumeDive</td>\n",
       "      <td>🌏 Worldwide</td>\n",
       "      <td>https://remoteok.io/remote-jobs/remote-full-st...</td>\n",
       "    </tr>\n",
       "  </tbody>\n",
       "</table>\n",
       "</div>"
      ],
      "text/plain": [
       "                        Job Title           Company Name         Location  \\\n",
       "0  Senior Backend Golang Engineer     Hippo Technologies      🌏 Worldwide   \n",
       "1         Senior Backend Engineer  Composer Technologies  🌎 North America   \n",
       "2             Full Stack Engineer             ResumeDive      🌏 Worldwide   \n",
       "\n",
       "                                          Apply Link  \n",
       "0  https://remoteok.io/remote-jobs/remote-senior-...  \n",
       "1  https://remoteok.io/remote-jobs/remote-senior-...  \n",
       "2  https://remoteok.io/remote-jobs/remote-full-st...  "
      ]
     },
     "execution_count": 38,
     "metadata": {},
     "output_type": "execute_result"
    }
   ],
   "source": [
    "df.head(3)"
   ]
  }
 ],
 "metadata": {
  "kernelspec": {
   "display_name": "base",
   "language": "python",
   "name": "python3"
  },
  "language_info": {
   "codemirror_mode": {
    "name": "ipython",
    "version": 3
   },
   "file_extension": ".py",
   "mimetype": "text/x-python",
   "name": "python",
   "nbconvert_exporter": "python",
   "pygments_lexer": "ipython3",
   "version": "3.12.4"
  }
 },
 "nbformat": 4,
 "nbformat_minor": 2
}
